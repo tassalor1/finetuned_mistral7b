{
 "cells": [
  {
   "cell_type": "code",
   "execution_count": 1,
   "id": "9ac877a3-fe64-4e0e-88f9-ec2c6ada66da",
   "metadata": {},
   "outputs": [
    {
     "name": "stderr",
     "output_type": "stream",
     "text": [
      "D:\\coding\\ai_learnoor\\learner_env\\Lib\\site-packages\\pydantic\\_internal\\_fields.py:149: UserWarning: Field \"model_id\" has conflict with protected namespace \"model_\".\n",
      "\n",
      "You may be able to resolve this warning by setting `model_config['protected_namespaces'] = ()`.\n",
      "  warnings.warn(\n",
      "[nltk_data] Downloading package punkt to\n",
      "[nltk_data]     C:\\Users\\User\\AppData\\Roaming\\nltk_data...\n",
      "[nltk_data]   Package punkt is already up-to-date!\n"
     ]
    },
    {
     "data": {
      "text/plain": [
       "True"
      ]
     },
     "execution_count": 1,
     "metadata": {},
     "output_type": "execute_result"
    }
   ],
   "source": [
    "import nltk\n",
    "import os\n",
    "import torch\n",
    "from transformers import pipeline\n",
    "import requests\n",
    "import runpod\n",
    "from text_generation import Client\n",
    "import json\n",
    "import re\n",
    "import tiktoken\n",
    "nltk.download('punkt')"
   ]
  },
  {
   "cell_type": "code",
   "execution_count": 2,
   "id": "33eb748a-c51b-4b52-a9d9-e8139cc88c73",
   "metadata": {},
   "outputs": [],
   "source": [
    "api_key = '0QGPOO4GHY3230X2I51YWXTXP8E3UDG0AVNOCO9O'"
   ]
  },
  {
   "cell_type": "code",
   "execution_count": 3,
   "id": "1f72e8f9-59c8-462b-a777-850037665b0b",
   "metadata": {},
   "outputs": [],
   "source": [
    "def clean_whitespace(text):\n",
    "        text = re.sub(r'\\n{2,}', '\\n', text)\n",
    "        text = re.sub(r' {2,}', '\\n', text)\n",
    "        text = text.strip()\n",
    "        return text"
   ]
  },
  {
   "cell_type": "code",
   "execution_count": 23,
   "id": "93921088-ff3c-4f75-addd-52e6ee678ac5",
   "metadata": {
    "scrolled": true
   },
   "outputs": [
    {
     "name": "stdout",
     "output_type": "stream",
     "text": [
      "3642\n"
     ]
    },
    {
     "data": {
      "text/plain": [
       "{'Segment: 1': 'It was approaching 2am when Lexi made the discovery that would fracture the world. She skulled the rest of her black coffee and sat the paper cup down on the smooth, white table. She was at the university working on her PhD thesis. The research involved creating controlled, miniature black holes in a Vacuity Machine and then testing its potential for hyper-space travel. It was mostly hypothetical research.\\nLexi ran the formulas through the Vacuity Machine over and over again. She was analysing the results of her most recent trial, bleary-eyed from a lack of sleep, when a chill ran from her tail bone to her shoulders.\\n\"Holy mother of God,\" she said to the air. She took a moment to catch her breath.\\nLexi had found evidence that no god existed.\\nNo god, gods or any divine creators of life.\\nNone. Nothing.\\nAnd it was all discovered by accident, as an unexpected side effect of her research.\\nThe proof was irrefutable. Undeniable. It was flashing on the screen of this machine in an insignificant laboratory at an unimportant university on an irrelevant planet.\\nHer proposal wasn’t intended to yield any definitive conclusions but black holes are a mystery and when you continuously prod the unknown, something unintentional is bound to occur.\\nI need to call Steve. She thought.\\nForty-five minutes later and her supervisor-turned-lover, Steve, burst through the door of the lab.\\n\"Where?\" he asked. Lexi pointed to the screen.\\n\"I\\'m certain I interpreted the data correctly but I need another pair of eyes,” she said.\\nSteve hurried over to the screen, eyes focused on the target like a predator on its prey. A silence stretched on for the next hour as Steve filtered through the results. Lexi watched the screen over his shoulder, trying to find a flaw in the formula, a discrepancy in the data. She was overwhelmed by the potential power she held. Finally, Steve turned around to face her. He took off his glasses and looked at her with an unnatural glow in his eyes.\\n\"It\\'s watertight, Lex,” he said. “There’s no doubt about it.”\\nHe made a sound that was somewhere between and laugh and a cry.\\n\"We\\'re officially godless.\" \\n*\\nA few hours passed as they retested the hypothesis. The results came out the same every time. They left the lab as the sun rose and Steve offered to drive Lexi home. She refused, preferring to walk home in the crisp morning air. She needed to process the impact of her discovery. Steve understood, gave her a quick peck on the lips and sped back home in his Subaru.\\nLexi walked home on the path that followed the beachfront. She breathed in salt and leaves and coffee from a nearby van where a man was selling hot beverages to morning walkers. She bought a black coffee, exchanging a polite smile with the barista, and sat on a bench overlooking the calm ocean. \\nThe discovery did not threaten Lexi’s identity. She had never truly been religious. “Agnostic,” she’d say if the topic ever arose but she had never based her life on these beliefs. Still, as she sipped her bitter coffee and watched the amber sky give way to blue, she felt as if some mystery or some sort of magic had departed the earth. She watched the passers-by. The runner with a pram, the women laughing and gossiping on their power walk, a dog playing fetch with its owner in the shallows of the ocean.\\nLexi could already feel the foundations of society buckling under the weight of her discovery. Society was mostly secular these days but she understood the importance and the need for purpose even if it was an illusion.\\nAnd here I am... one person who rendered everything meaningless.\\nThe realisation pierced her conscience like a nail through skin. She couldn’t do this. She couldn’t take responsibility for it.\\nI need to call Steve. She thought for the second time that morning. She pulled out her phone and touched Steve’s name. There was barely any time for a ring before Steve picked up.\\n\"Lexi!\" his face appeared on her phone screen.\\n“Steve, listen to me. We can’t release the results to the public.”\\n“What are you talking about? Why not?” he demanded.\\nTears began to gather around the lids of her eyes.\\n“I can’t do it. It’s not ethical.”\\nHis tone changed, became softer and more reassuring.\\n\"Oh darling, don\\'t be worried. This is a good thing. Trust me.”\\nHe paused for a moment.\\n“This… is the right thing, Lex.”\\n“You can\\'t know that,” she countered.\\n“I know that it might stop some oppressive regimes and wars. It’ll shut up those bigoted zealots for a start.”\\n\"Steve, we’re not doing it. We’re just not.” Her voice was surer now, more adamant.\\nSteve took a deep',\n",
       " 'Segment: 2': ' breath in and pushed the air back out with a long sigh.\\n\"Look, Lex. This is an amazing thing you\\'ve discovered. Don\\'t hide it. The world should know.”\\n“I’m not so- “\\nHe interjected, “even without religion, people will still find something to believe in.\"\\nThere was silence between them for a few seconds.\\n\"Plus, I\\'ve forwarded the research to a few contacts at NASA. They’re briefing the President this afternoon.”\\n***\\nPope James was jostled out of sleep by his 5am alarm. He rose out of bed, put on his white robe, its matching zucchetto and his large, silver crucifix which weighed down comfortably around his neck.\\nAt the end of the corridor was his private chapel, a room in which he took morning mass alone. The chapel was dressed in cardinal red from the velvet curtains to the patterned, Italian rug on the floor. The red was contrasted by a white and gold alter adorned with roses and cream candles that flickered when lit. Frankincense coated the room with its earthy, sweet notes. A white Jesus on a dark wooden cross hung from the wall above the alter, his face tired and weary. Pope James knelt before the Son of God.\\nO Lord, I come to you to praise you on this great early morning as the sun begins to rise…\\nAs he gave his silent thanks, he found his mind wandering to Sister Celia. Images of her tanned skin and soft, brown eyes bubbled to the surface of his memory and he shook his head quickly as if to burst them.\\nGive me guidance to lead and to inspire, give me strength to overcome the trials…\\nHer smile pierced his concentration. Her lips distracted his focus as thoughts of her continued to inundate him.\\nIn the name of the Father, Son and Holy Spirit. Amen.\\nPope James opened his eyes and looked to his left where the life-sized statue of the Virgin Mary and her baby stood, watching over him with an expression of love and purity. He averted his eyes out of shame, as if she was real and could read his thoughts.\\n*\\nThe meeting to discuss the discovery was scheduled for 9am. Pope James walked through the arches of the Papal apartment halls. The blue and gold painted ceiling reflected onto the polished marble floor which was so clean it appeared as if a thin layer of water ran across it. Father John, his butler, followed a footstep behind.\\n“Are you concerned, Pope James?” asked Father John.\\n“Not in the slightest.” Pope James kept his eyes fixed ahead of him as they spoke.\\n“A lot of the world leaders are,” Father John pushed. “They’re nervous about the potential for chaos and instability.”\\nPope James stopped.\\n“And are you, Father John, suggesting that I too should be worried about the potential implausibility of our God?”\\nFather John didn’t shy away from this test of authority.\\n“No. My faith is stronger than ever as I’m sure yours is too. But I’ve never seen rational world leaders behaving as senselessly as they are now. Some major cities in the USA have been shut down to counteract a potential increase in public violence. That in itself is concerning.”\\n“A lot of those leaders should be rejoicing, shouldn’t they? Isn’t this what they’ve always wanted?”\\nPope James offered no more thoughts and they continued walking in silence.\\nFather John had a point. Uncertainty, often accompanied by fear, was spreading through the masses like an unmanageable viral outbreak, and not just in the USA. The data of the research wasn’t public knowledge but rumours were already placing a strain on the population’s peace of mind.\\nThey approached the meeting room, a large rectangle outlined by a ring of wooden chairs. Dark, mahogany bookshelves lined the cream walls and a patterned, crimson rug took up the space in the centre of the room where one might expect a table to be. Pope James sat at the right side of the room in front of a religious painting. Papal members entered the room in single file and each took their seats on the perimeters. Sister Celia sat a few chairs away from the Pope and they shared a brief smile. Then Pope James stood.\\n“Good morning all,” he announced.\\n“We are here to discuss the academic research of Alexa Miller and Stephen Chalmers which, apparently, provides evidence that God does not exist.”\\nA small laugh sounded from the Papal members.\\n“I would like to note that this is something I would not usually waste our time with, however, a number of world leaders have placed a large amount of pressure on us to investigate the research.”\\nPope James looked across the room, making eye contact with each Papal member as he spoke.\\n“As modern members of the Vatican, we must work with political leaders and carry out our duties as leaders of the church to',\n",
       " 'Segment: 3': ' unify the voice of Catholicism. I am hoping that we can be finished with this spectacle before lunchtime.” He smiled and the room indulged his cynical dig with a collective laugh.\\n“Let’s begin.”\\nFour men, all dressed in black suits, took the verbal cue and entered the middle of the room. They began to set up a large computer which looked alien in a such a traditionally-designed room. The computer was the size of a vending machine and a similar shape too. Its dull, silver flanks had multiple cables running from it to circular outlets on a black cube nearby. Lights were flashing on and off. A power bank of sorts, Pope James speculated. Other cables from the silver structure led to a small screen perched on top of a table that the computer men had brought in. After about fifteen minutes, one of them spoke.\\n“Pope James, it is ready for you to observe.”\\nPope James pushed himself out of his seat and walked towards the computer screen.\\n“We will run the formulas through the computer as Alexa Miller did. Then we will proceed to break down the results for you and the Papal members for discussion.” The man’s words came off as slightly patronising but Pope James brushed his annoyance aside.\\n“Okay, let’s get this done with.”\\n*\\nThree hours later and the room was silent with shock. The suited men had left and taken their hideous technology with them, leaving the members to discuss the events privately.\\nSuddenly, the silence gave way to a cacophony of chaos as members, hit by the reality of the discovery, broke into fits of panic.\\n“Silence. Silence!” Pope James stood up and shouted above the discordance of voices. Everybody succumbed to his command.\\n“What we have witnessed today is indeed alarming and unexpected. But God would not want us to behave like primitive monkeys in light of what we have seen. I am suggesting that this is a sinister ploy by the Devil and we should discuss how to approach it.”\\nHe only partially believed what he had said.\\nSomeone shouted from the other end of the room. “God doesn’t exist and neither does the Devil! You all just saw it for yourselves!”\\n“Our lives and work have been a joke!” Another yelled and an angry murmur of agreement echoed throughout the room.\\nFor the first time, Pope James was scared. He improvised.\\n“If your faith in our Holy Father dithers so easily in the face of a devilish charade, then you no longer deserve to be a part of the Vatican and I ask you to leave immediately.”\\nHe’d intended it to come out as more of a threat than an instruction and was startled when lifelong friends and colleagues filed out of the meeting room. Only five remained, including himself. Father John, a Bishop, another priest he did not know well and Sister Celia.\\n\"You need to make a public speech denouncing the research,” the Bishop urged. “By saying nothing, you\\'re making a statement. You\\'re admitting that they\\'re right.\"\\n\"People will think you agree with them,\" Father John chimed in and the others nodded in agreement. Sister Celia grabbed his hand.\\n\"What is He telling you, Pope James?\" she asked.\\nEverybody fell silent, choosing to ignore the inappropriate physical contact. Pope James became aware of a quiet pecking at the window. His gaze followed the sound and he spotted a pigeon sitting on the stone ledge just outside the window, its head turning directions quickly and sporadically as if it were stuck in a glitch. The others looked at the pigeon too.\\n\"Pope James?\" Sister Celia spurred him out of his trance.\\n\"I will hold a public speech to reassure the believers. He is telling me that there is nothing to fear as long as our faith remains strong. And mine is immovable.\"\\nHe felt his stomach sink as the words left his mouth.\\n*\\nPope James did not sleep for the next four nights.\\n*\\nThe morning of the speech, Pope James rose from his bed and put on his robe as usual. He fixed the silver crucifix around his neck, noting his dark eyes in the mirror. The wrinkles around his face were more pronounced than usual and the colour in his eyes seemed to have greyed.\\nHe knelt at the alter in his private chapel as he did each day, delirious with anxiety. He hadn’t felt the respite of sleep for days and was finding it hard to distinguish the difference between reality and unreality. Weren’t they the same thing now anyway?\\n\"God, give me guidance. Give me faith. Show me that you are real,\" he pleaded to the heavens but the words felt weightless.\\nThe air in the room felt still. The candles no longer flickered as they usually did. The frankincense smelt burnt somehow. He looked to his left where the Virgin Mary stood. She looked at him and the sides of her smile began to stretch up her cheeks.',\n",
       " 'Segment: 4': ' Her eyes narrowed and her lips split apart releasing an otherworldly laugh and Pope James fell from his knees onto the ground in fear. He bolted out of the room, trying to escape the overwhelming sense of claustrophobia.\\nOn his way out, he bumped into Sister Celia, sweet-scented and solemn.\\n“Pope James,” she gasped. “I heard you yell from your chapel and rushed over. Are you alright?”\\nShe held his elbow, offering comfort, and looked up at him. Pope James was breathing rapidly like a panicked child. Sister Celia maintained her composure.\\n“Come with me. I’ll make you a tea to calm your nerves.”\\n“But the speech is only an hour away. I need to prepare.”\\n“The best thing for you right now, is to sit down and breathe.”\\n***\\nLexi and Steve sat together on a dirty, blue couch watching the news from a safe house in the middle of wherever. They had moved there yesterday after angry strangers starting attacking them on the streets and just before heated mobs had found their addresses.\\nThe news broadcasted scenes of civil disruption. Looters climbed through the broken windows of shops, trucks sped through smoke-filled streets and places of worship burned down with voracious flames. In other shots, masses of people were seen praying to a giant banner hooked up to the side of a building. On it was a painting of Lexi’s face.\\nNeither Lexi nor Steve commented. They were numbed and convinced themselves that the outside world was a separate, fictional reality. Steve broke the silence.\\n“It’s nearly time, switch it to World News.”\\nLexi felt sick. She had caused this mayhem, this Armageddon of sorts. She didn’t want to watch the speech but she switched the channel anyway. Something inside her hoped that Pope James would say something to rectify the situation, to reverse the damage she’d caused.\\nThe Pope’s gaunt face shone from the TV. His tired, frail body moved up the steps to the podium where the microphone was placed. Lexi remembered him being old but not this old.\\n“Hello,” Pope James said as he leaned into the microphone.\\n“Many of you have been waiting for my comment on Alexa Miller’s discovery.”\\nLexi felt like retching when he said her name.\\n“And I would just like to say that I have observed the evidence and have reflected on it.”\\nHe stared up at the sky for a long time. Lexi could see from the close-up that he was shaking. He pulled something out from somewhere in his robe and raised it to his chin.\\nLexi screamed and the TV visuals shook as the cameraman temporarily lost control of the camera. Before the Pope could pull the trigger, a nun jumped across the stage and tackled him to the ground. Pope James cried as the nun cradled him in her arms. After a long moment, he looked up at the nun and kissed her.\\n“The world’s gone mad,” Steve said.\\n“No thanks to us,” Lexi replied.\\nThey looked at each other gravely and after a while, broke into a laugh.\\nAnd they laughed until they no longer could.'}"
      ]
     },
     "execution_count": 23,
     "metadata": {},
     "output_type": "execute_result"
    }
   ],
   "source": [
    "def load_data(data):\n",
    "    with open(data, 'r', encoding='utf-8') as f:\n",
    "        story = f.read()\n",
    "    \n",
    "    clean_story = clean_whitespace(story)\n",
    "    \n",
    "    encoding = tiktoken.get_encoding(\"cl100k_base\")\n",
    "    num_tokens = encoding.encode(clean_story)\n",
    "    print(len(num_tokens))\n",
    "\n",
    "    segments = {}\n",
    "    current_segment = []\n",
    "    seg_num = 1\n",
    "    \n",
    "    # will loop untill dict has 1000 tokens\n",
    "    for token in num_tokens:\n",
    "        current_segment.append(token)\n",
    "        \n",
    "        # if >= 1000 will add this batch to dict\n",
    "        if len(current_segment) >= 1000:\n",
    "            segment_text = encoding.decode(current_segment)\n",
    "            segments[f'Segment: {seg_num}'] = segment_text\n",
    "            current_segment = []\n",
    "            seg_num += 1\n",
    "            \n",
    "    # grabs remaining tokens        \n",
    "    if current_segment:\n",
    "        segment_text = encoding.decode(current_segment)\n",
    "        segments[f'Segment: {seg_num}'] = segment_text\n",
    "     \n",
    "    return segments\n",
    "\n",
    "load_data(\"D:\\coding\\llms\\sci_storys\\story4.txt\")"
   ]
  },
  {
   "cell_type": "code",
   "execution_count": 22,
   "id": "9ee6b4e2-88fe-4870-b300-aeecd458ce4c",
   "metadata": {},
   "outputs": [
    {
     "ename": "NameError",
     "evalue": "name 'segments' is not defined",
     "output_type": "error",
     "traceback": [
      "\u001b[1;31m---------------------------------------------------------------------------\u001b[0m",
      "\u001b[1;31mNameError\u001b[0m                                 Traceback (most recent call last)",
      "Cell \u001b[1;32mIn[22], line 1\u001b[0m\n\u001b[1;32m----> 1\u001b[0m \u001b[43msegments\u001b[49m\n",
      "\u001b[1;31mNameError\u001b[0m: name 'segments' is not defined"
     ]
    }
   ],
   "source": [
    "segments"
   ]
  },
  {
   "cell_type": "code",
   "execution_count": 59,
   "id": "771ac104-0328-4a0a-8799-7d935ca5697b",
   "metadata": {},
   "outputs": [
    {
     "name": "stdout",
     "output_type": "stream",
     "text": [
      "Final Output: {'input_tokens': 161, 'output_tokens': 82, 'text': [\"\\n    Here's a prompt for a cool sci-fi story based on the given story segment:\\n    'What if Lexi's discovery led to a catastrophic event that threatened the fabric of reality? Could she use her knowledge of the Vacuity Machine to prevent the impending doom, or would the power of the black holes prove too great for her to control?'\"]}\n"
     ]
    }
   ],
   "source": [
    "def gen_prompt(input_text, api_key):\n",
    "    url = \"https://api.runpod.ai/v2/llama2-13b-chat/runsync\"\n",
    "    prompt = f\"\"\"\n",
    "    Give a short and concise output.\n",
    "    Given the following story segment: '{input_text}', generate a suitable prompt that a user would ask for if they wanted a cool sci-fi story.\n",
    "    DO NOT give me any additional words other than what is asked.\n",
    "    \"\"\"\n",
    "\n",
    "    payload = { \"input\": {\n",
    "        \"prompt\": prompt,\n",
    "        \"sampling_params\": {\n",
    "            \"max_tokens\": 1000,\n",
    "            \"n\": 1,\n",
    "            \"best_of\": None,\n",
    "            \"presence_penalty\": 0,\n",
    "            \"frequency_penalty\": 0,\n",
    "            \"temperature\": 0.7,\n",
    "            \"top_p\": 1,\n",
    "            \"top_k\": -1,\n",
    "            \"use_beam_search\": False,\n",
    "            \"stop\": [\".\"],\n",
    "            \"ignore_eos\": False,\n",
    "            \"logprobs\": None\n",
    "        }\n",
    "    } }\n",
    "    headers = {\n",
    "    \"accept\": \"application/json\",\n",
    "    \"content-type\": \"application/json\",\n",
    "    \"authorization\": api_key\n",
    "    }\n",
    "    \n",
    "    response = requests.post(url, json=payload, headers=headers)\n",
    "\n",
    "    response_data = response.json()\n",
    "\n",
    "    job_id = response_data.get('id')\n",
    "    return job_id  \n",
    "    \n",
    "input_text = 'It was approaching 2am when Lexi made the discovery that would fracture the world. She skulled the rest of her black coffee and sat the paper cup down on the smooth, white table. She was at the university working on her PhD thesis. The research involved creating controlled, miniature black holes in a Vacuity Machine and then testing its potential for hyper-space travel.'     \n",
    "job_id = gen_prompt(input_text, api_key)\n",
    "\n",
    "def poll_for_result(request_id, api_key, interval=5):\n",
    "    status_url = f\"https://api.runpod.ai/v2/llama2-13b-chat/status/{request_id}\"  \n",
    "    headers = {\n",
    "        \"accept\": \"application/json\",\n",
    "        \"authorization\": api_key\n",
    "    }\n",
    "\n",
    "    while True:\n",
    "        response = requests.get(status_url, headers=headers)\n",
    "        result = response.json()\n",
    "\n",
    "        if result['status'] == 'COMPLETED':\n",
    "            output = result.get('output')\n",
    "            return output  \n",
    "        elif result['status'] in ['FAILED', 'ERROR']:\n",
    "            print(\"Error or Failed Status:\", result)\n",
    "            return result\n",
    "\n",
    "        time.sleep(interval)  # Wait before polling again\n",
    "\n",
    "\n",
    "\n",
    "if job_id:\n",
    "    output = poll_for_result(job_id, api_key)\n",
    "    print(\"Final Output:\", output)"
   ]
  },
  {
   "cell_type": "code",
   "execution_count": 102,
   "id": "99a5b8f9-265b-439a-bbcc-d931ecd01241",
   "metadata": {},
   "outputs": [
    {
     "data": {
      "text/plain": [
       "\"What if Lexi's discovery led to a catastrophic event that threatened the fabric of reality? Could she use her knowledge of the Vacuity Machine to prevent the impending doom, or would the power of the black holes prove too great for her to control?\""
      ]
     },
     "execution_count": 102,
     "metadata": {},
     "output_type": "execute_result"
    }
   ],
   "source": [
    "extracted_text = output['text'][0] if output['text'] else None\n",
    "segments = extracted_text.split('\\n')\n",
    "extracted_prompt = segments[2].strip() if len(segments) > 1 else None    \n",
    "extracted_prompt = extracted_prompt.strip(\"'\")\n"
   ]
  },
  {
   "cell_type": "code",
   "execution_count": 101,
   "id": "81f4060d-7501-4449-b05d-4fb675def9f8",
   "metadata": {},
   "outputs": [
    {
     "data": {
      "text/plain": [
       "{'messages': [{'role': 'system',\n",
       "   'content': 'You are the greatest sci-fi story teller the world has seen.'},\n",
       "  {'role': 'user',\n",
       "   'content': \"What if Lexi's discovery led to a catastrophic event that threatened the fabric of reality? Could she use her knowledge of the Vacuity Machine to prevent the impending doom, or would the power of the black holes prove too great for her to control?\"},\n",
       "  {'role': 'assistant',\n",
       "   'content': 'It was approaching 2am when Lexi made the discovery that would fracture the world. She skulled the rest of her black coffee and sat the paper cup down on the smooth, white table. She was at the university working on her PhD thesis. The research involved creating controlled, miniature black holes in a Vacuity Machine and then testing its potential for hyper-space travel.'}]}"
      ]
     },
     "execution_count": 101,
     "metadata": {},
     "output_type": "execute_result"
    }
   ],
   "source": [
    "json_obj = {\n",
    "  \"messages\": [\n",
    "    {\"role\": \"system\", \"content\": \"You are the greatest sci-fi story author in the universe.\"},\n",
    "    {\"role\": \"user\", \"content\": extracted_prompt},\n",
    "    {\"role\": \"assistant\", \"content\": input_text}\n",
    "  ]\n",
    "}\n",
    "json_obj"
   ]
  },
  {
   "cell_type": "code",
   "execution_count": 33,
   "id": "43bc1afb-6df5-4486-a9f4-da1b69b5bd61",
   "metadata": {},
   "outputs": [],
   "source": [
    "def create_prompt(input_text):\n",
    "    template = f\"\"\"You are the greatest sci-fi story teller in the universe. Take an input: {input_text}\n",
    "\n",
    "Provide a prompt for this input. Of what exactly is happening in the story.\"\"\"\n",
    "    return template\n"
   ]
  }
 ],
 "metadata": {
  "kernelspec": {
   "display_name": "llm_venv",
   "language": "python",
   "name": "llm_venv"
  },
  "language_info": {
   "codemirror_mode": {
    "name": "ipython",
    "version": 3
   },
   "file_extension": ".py",
   "mimetype": "text/x-python",
   "name": "python",
   "nbconvert_exporter": "python",
   "pygments_lexer": "ipython3",
   "version": "3.11.5"
  }
 },
 "nbformat": 4,
 "nbformat_minor": 5
}
