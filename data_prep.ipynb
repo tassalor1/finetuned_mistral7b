{
 "cells": [
  {
   "cell_type": "code",
   "execution_count": 115,
   "id": "9ac877a3-fe64-4e0e-88f9-ec2c6ada66da",
   "metadata": {},
   "outputs": [
    {
     "name": "stderr",
     "output_type": "stream",
     "text": [
      "[nltk_data] Downloading package punkt to\n",
      "[nltk_data]     C:\\Users\\User\\AppData\\Roaming\\nltk_data...\n",
      "[nltk_data]   Package punkt is already up-to-date!\n"
     ]
    },
    {
     "data": {
      "text/plain": [
       "True"
      ]
     },
     "execution_count": 115,
     "metadata": {},
     "output_type": "execute_result"
    }
   ],
   "source": [
    "import nltk\n",
    "from nltk.tokenize import sent_tokenize\n",
    "import os\n",
    "from langchain.llms import HuggingFaceHub\n",
    "from langchain.llms.huggingface_pipeline import HuggingFacePipeline\n",
    "from langchain import PromptTemplate, HuggingFaceHub, LLMChain\n",
    "from huggingface_hub import InferenceClient\n",
    "import torch\n",
    "from transformers import pipeline\n",
    "import requests\n",
    "import runpod\n",
    "from text_generation import Client\n",
    "import json\n",
    "import re\n",
    "import tiktoken\n",
    "nltk.download('punkt')"
   ]
  },
  {
   "cell_type": "code",
   "execution_count": 21,
   "id": "33eb748a-c51b-4b52-a9d9-e8139cc88c73",
   "metadata": {},
   "outputs": [],
   "source": [
    "api_key = '0QGPOO4GHY3230X2I51YWXTXP8E3UDG0AVNOCO9O'"
   ]
  },
  {
   "cell_type": "code",
   "execution_count": 125,
   "id": "1f72e8f9-59c8-462b-a777-850037665b0b",
   "metadata": {},
   "outputs": [],
   "source": [
    "def clean_whitespace(text):\n",
    "        text = re.sub(r'\\n{2,}', '\\n', text)\n",
    "        text = re.sub(r' {2,}', '\\n', text)\n",
    "        text = text.strip()\n",
    "        return text"
   ]
  },
  {
   "cell_type": "code",
   "execution_count": 139,
   "id": "93921088-ff3c-4f75-addd-52e6ee678ac5",
   "metadata": {},
   "outputs": [
    {
     "name": "stdout",
     "output_type": "stream",
     "text": [
      "2066\n"
     ]
    },
    {
     "data": {
      "text/plain": [
       "['Thornton Gombar lifted his gaze to the sky as a hovercraft zoomed over his home. Based on the rosy pink tints that adorned its exterior, Thornton surmised that the vehicle was a pleasure craft, likely filled with a small group of men and women engaging in gross debauchery as the self-driving vehicle propelled itself across the sky. The craft jerked and jolted in an arrhythmic manner as it flew to the heart of Homasoro City, where even more such activities awaited them. \\nThornton shook his head and turned his attention again to the ground. \\nBefore his home lay a small plot of brownish soil. He had spent the entire day clearing it of the gnarled weeds that had accumulated during decades of neglect. Only one remained. \\nThornton got on his knees and, wrapping his fingers around the base, began to pull. The weed didn\\'t provide much resistanceâ€”immediately, a resounding \\'snap\\' echoed through the yard as the stem broke apart. \\nThornton tossed the weed aside and stared forlornly at the spot it once sprouted. The roots were still trapped beneath the ground. If he were to leave it alone, the despicable plant would grow back and likely spread its ilk throughout the now-clean yard. \\nUsing his fingers and a jagged rock he found nearby, Thornton began to pick at the earth around it to create leverage for what he anticipated would be an excruciating pull. He was about to begin his efforts when he felt a shadow encompass him. \\nFloating just inches from Thornton\\'s head was an android whose appearance was akin to that of some deformed spider. Its body was white and spherical, with four sinewy appendages that sprouted from its center. \\nA soft, monotonous voice wafted through the machine\\'s speaker. \"Hello, Mr. Gombar,\" it said. \"How are you doing this fine morning?\"\\nThornton suppressed a groan. He hated that the thing already knew his name, but all the androids of Homasoro City, even these simple public maintenance models, were equipped with face-recognition tech. I guess I just have to get used to it, he thought. \\nThornton turned his attention back to the ground. \"I\\'m doing just fine today, uhâ€¦\" \\nHis voice trailed. He wanted to address the machine as \\'sir\\' but felt awkward speaking to it as he would a man. \\nThe android seemed to pick up on his uncertainty. \"You may address me as B-7269.\"\\n\"Thanks. I\\'m doing just fine today, B-7269.\" \\nThornton grimaced as he began to pull on the submerged root. \\nThe android\\'s voice struck Thornton\\'s ears again. \"Mr. Gombarâ€”what are you doing?\" \\nThornton\\'s voice was strained as he continued to pull. \"Pulling a weed.\"\\n\"Why are you doing that, Mr. Gomber? You seem uncomfortable.\"\\nThornton had to grimace to keep from rolling his eyes. \"The damn thing is ugly. It\\'s a stain on my yard. I want to start a garden here. I want to plant roses, lilies, and stuff like that. This weed here will steal their nutrients and water. I need to get rid of it.\"\\nThe android reached one of its spindly arms downward. \"Here. Let me help.\" \\nThornton waved the machine\\'s arm away. \"No need.\" \\nA gust of air blew through clenched teeth as Thornton pulled once more. Finally, the earth broke away, and the tangled bundle of roots was released. \\nThornton sighed in relief. \"See. I got it.\"\\n\"Impressive.\"\\nThornton ignored B-7269\\'s comment and walked back into his home. When he reemerged, he carried a pre-potted rose in his arms. He took it to the front-left corner of his yard, set it beside him, and began digging into the soil with a gardening shovel. \\nB-7269 hovered over to him. \"Mr. Gombarâ€”if you want a garden, all you have to do is submit a request to the Department of Public Maintenance and Satisfaction. That way, a team of androids like myself can plant the garden for you. In fact, I can file the request on your behalf. It should take two to three days for it to be fulfilled.\"\\nBeads of sweat began to drip from Thornton\\'s brow. \"That\\'s fine,\" he said. \"I got it.\"\\nB-7269 was insistent. \"I can detect a rising level of opioid peptides in your neural tissue. Doing the work yourself is obviously causing you some pain. I would advise that you utilize the services provided by the Department of Public Maintenance and Satisfaction.\"\\n\"I have arthritis. I\\'m used to it.\"\\n\"It is my duty to ensure all citizens of Homasoro City are content and happy. My programming tells me that pain is the antithesis of happiness. If you want a garden planted on your property, we can ensure that it is done without any suffering on your part.\"\\nThornton shook his head. \"It\\'s not a problem. I used to work in construction. Before everything became automated, I was constantly working with my hands. This is second nature to me. I actually kind of like it. It\\'s better than being on that damned VR headset all day.\" \\nB-7269 began to betray a hint of concern. \"Are you not satisfied with the available programming? Perhaps you just haven\\'t found anything applicable to your tastes. There are so many channels in the VR cloud that finding something specific for you can be difficult. However, if you have a few minutes to complete a short questionnaire, I can help you find something you will have a high likelihood of enjoying.\"\\nThornton put aside his shovel and dug his fingers into the soil of the potted rose beside him. When he felt the wispy tendrils of the plant\\'s roots brush against his skin, Thornton, his movements slow and gentle, began to pull it away from its clay barricade. \\n\"That\\'s fine,\" he said. \"I don\\'t think I could stomach any more VR programming, to be honest. That shit depresses me like no other.\"\\n\"Depression is caused by low serotonin levels,\" B-7269 explained. \"If you ever experience the symptoms of depression again, you may request an immediate injection of synthesized serotonin as treatment. The effect on your mood would occur instantly. Ninety-eight percent of users report satisfaction with this service.\" \\nThe rose, with its accompanying mound of soil and roots, was now free of the pot in which it was previously housed. Slowly, he lowered it into the hole he had made. Then, when it settled, he shoveled the soil back into any remaining open spaces. \\n\"I don\\'t think I\\'ll need that,\" he finally said. \\nHis following words were bereft of any sincerity. \"Thanks, though.\"\\nWhen he was done, Thornton threw the shovel down and stood up to admire his work. The pedals of the rose shone like rubies as they glistened in the white sunlight of Homasoro City. \\nThis is just the beginning, Thornton thought triumphantly. \\n\"Your serotonin levels have risen substantially,\" said B-7269. \"During the entirety of our conversation, your levels have remained steady at fifty-two nanograms per milliliter. While within normal limits, this is still unusually low. However, they have suddenly jumped to one-hundred-and-fifty-three nanograms per milliliter.\"\\nThornton let out a dismissive chuckle. \"That\\'s what typically happens when a man sees something beautiful.\"\\n*\\n*\\n*\\nWhen Thornton Gombar opened the front door to his home, he stumbled backward in surprise. His previously barren yard was now ornamented with a gaudy display of stone, grass, and flowers. From his front door to the street lay a stone path formed from swirly-patterned river rock that, due to the irregular pattern in which it was laid, appeared as flowing water. On either side, the ground was adorned with a sheet of grass that sparkled like an emerald. The yard\\'s border was lined with a diverse array of flowers, including roses, lilies, and a set of marigolds that Thornton, based on their muted tint, could tell were genetically modified to bloom year-round. \\nThornton quickly glanced at the front-left corner of the newly-minted garden. A great abundance of crimson roses sprouted from the ground there. Thornton\\'s heart sankâ€”the flower he planted just yesterday was unrecognizable amidst the throng. \\nFloating above the whole display was the familiar figure of B-7269. It floated excitedly toward Thornton once his eyes made contact with its spider-like exterior. \"Hello, Mr. Gombar,\" it said. \"The sudden increase in your serotonin levels yesterday was so remarkable that I decided to put in a fast-track request for your garden. I, along with a few other androids under my command, came and planted it overnight. Now you can avoid the pain and labor of creating a garden while still experiencing the joy its beauty brings. What do you think?\"\\nThornton nodded absently. \"It\\'s greatâ€¦\" he said hesitantly. \"Thanksâ€¦\" \\n\"Strange,\" said B-7269. \"Your serotonin levels are resting at fifty-seven nanograms per milliliter. This is a normal level, but I\\'m surprised they aren\\'t rising after seeing your new garden. Is there anything wrong, Mr. Gombar? Did I plant the wrong flowers? Just say the word, and I can get this corrected straightaway.\"\\nThornton sighed. The garden B-7269 had made was gorgeous. It was probably the most beautiful thing that currently graced the gray, muggy streets of Homasoro City. Thornton just wished that it could\\'ve been constructed by his own hands.']"
      ]
     },
     "execution_count": 139,
     "metadata": {},
     "output_type": "execute_result"
    }
   ],
   "source": [
    "def load_data(data):\n",
    "    with open(data, 'r') as f:\n",
    "        story = f.read()\n",
    "    \n",
    "    clean_story = clean_whitespace(story)\n",
    "    \n",
    "    encoding = tiktoken.get_encoding(\"cl100k_base\")\n",
    "    num_tokens = encoding.encode(clean_story)\n",
    "    print(len(num_tokens))\n",
    "\n",
    "    segments = []\n",
    "    current_segment = []\n",
    "    \n",
    "    # will loop untill list has 4050 tokens\n",
    "    for token in num_tokens:\n",
    "        current_segment.append(token)\n",
    "        \n",
    "        # if >= 4069 will add this batch to new list\n",
    "        if len(current_segment) >= 4069:\n",
    "            segment_text = encoding.decode(current_segment)\n",
    "            segments.append(segment_text + '\\n\\n')\n",
    "            current_segment = []\n",
    "            \n",
    "    if current_segment:\n",
    "        segment_text = encoding.decode(current_segment)\n",
    "        segments.append(segment_text)\n",
    "     \n",
    "    return segments\n",
    "\n",
    "load_data(\"D:\\coding\\llms\\sci_storys\\story1.txt\")"
   ]
  },
  {
   "cell_type": "code",
   "execution_count": 59,
   "id": "771ac104-0328-4a0a-8799-7d935ca5697b",
   "metadata": {},
   "outputs": [
    {
     "name": "stdout",
     "output_type": "stream",
     "text": [
      "Final Output: {'input_tokens': 161, 'output_tokens': 82, 'text': [\"\\n    Here's a prompt for a cool sci-fi story based on the given story segment:\\n    'What if Lexi's discovery led to a catastrophic event that threatened the fabric of reality? Could she use her knowledge of the Vacuity Machine to prevent the impending doom, or would the power of the black holes prove too great for her to control?'\"]}\n"
     ]
    }
   ],
   "source": [
    "def gen_prompt(input_text, api_key):\n",
    "    url = \"https://api.runpod.ai/v2/llama2-13b-chat/runsync\"\n",
    "    prompt = f\"\"\"\n",
    "    Give a short and concise output.\n",
    "    Given the following story segment: '{input_text}', generate a suitable prompt that a user would ask for if they wanted a cool sci-fi story.\n",
    "    DO NOT give me any additional words other than what is asked.\n",
    "    \"\"\"\n",
    "\n",
    "    payload = { \"input\": {\n",
    "        \"prompt\": prompt,\n",
    "        \"sampling_params\": {\n",
    "            \"max_tokens\": 1000,\n",
    "            \"n\": 1,\n",
    "            \"best_of\": None,\n",
    "            \"presence_penalty\": 0,\n",
    "            \"frequency_penalty\": 0,\n",
    "            \"temperature\": 0.7,\n",
    "            \"top_p\": 1,\n",
    "            \"top_k\": -1,\n",
    "            \"use_beam_search\": False,\n",
    "            \"stop\": [\"None\"],\n",
    "            \"ignore_eos\": False,\n",
    "            \"logprobs\": None\n",
    "        }\n",
    "    } }\n",
    "    headers = {\n",
    "    \"accept\": \"application/json\",\n",
    "    \"content-type\": \"application/json\",\n",
    "    \"authorization\": api_key\n",
    "    }\n",
    "    \n",
    "    response = requests.post(url, json=payload, headers=headers)\n",
    "\n",
    "    response_data = response.json()\n",
    "\n",
    "    job_id = response_data.get('id')\n",
    "    return job_id  \n",
    "    \n",
    "input_text = 'It was approaching 2am when Lexi made the discovery that would fracture the world. She skulled the rest of her black coffee and sat the paper cup down on the smooth, white table. She was at the university working on her PhD thesis. The research involved creating controlled, miniature black holes in a Vacuity Machine and then testing its potential for hyper-space travel.'     \n",
    "job_id = gen_prompt(input_text, api_key)\n",
    "\n",
    "def poll_for_result(request_id, api_key, interval=5):\n",
    "    status_url = f\"https://api.runpod.ai/v2/llama2-13b-chat/status/{request_id}\"  \n",
    "    headers = {\n",
    "        \"accept\": \"application/json\",\n",
    "        \"authorization\": api_key\n",
    "    }\n",
    "\n",
    "    while True:\n",
    "        response = requests.get(status_url, headers=headers)\n",
    "        result = response.json()\n",
    "\n",
    "        if result['status'] == 'COMPLETED':\n",
    "            output = result.get('output')\n",
    "            return output  \n",
    "        elif result['status'] in ['FAILED', 'ERROR']:\n",
    "            print(\"Error or Failed Status:\", result)\n",
    "            return result\n",
    "\n",
    "        time.sleep(interval)  # Wait before polling again\n",
    "\n",
    "\n",
    "\n",
    "if job_id:\n",
    "    output = poll_for_result(job_id, api_key)\n",
    "    print(\"Final Output:\", output)"
   ]
  },
  {
   "cell_type": "code",
   "execution_count": 102,
   "id": "99a5b8f9-265b-439a-bbcc-d931ecd01241",
   "metadata": {},
   "outputs": [
    {
     "data": {
      "text/plain": [
       "\"What if Lexi's discovery led to a catastrophic event that threatened the fabric of reality? Could she use her knowledge of the Vacuity Machine to prevent the impending doom, or would the power of the black holes prove too great for her to control?\""
      ]
     },
     "execution_count": 102,
     "metadata": {},
     "output_type": "execute_result"
    }
   ],
   "source": [
    "extracted_text = output['text'][0] if output['text'] else None\n",
    "segments = extracted_text.split('\\n')\n",
    "extracted_prompt = segments[2].strip() if len(segments) > 1 else None    \n",
    "extracted_prompt = extracted_prompt.strip(\"'\")\n"
   ]
  },
  {
   "cell_type": "code",
   "execution_count": 101,
   "id": "81f4060d-7501-4449-b05d-4fb675def9f8",
   "metadata": {},
   "outputs": [
    {
     "data": {
      "text/plain": [
       "{'messages': [{'role': 'system',\n",
       "   'content': 'You are the greatest sci-fi story teller the world has seen.'},\n",
       "  {'role': 'user',\n",
       "   'content': \"What if Lexi's discovery led to a catastrophic event that threatened the fabric of reality? Could she use her knowledge of the Vacuity Machine to prevent the impending doom, or would the power of the black holes prove too great for her to control?\"},\n",
       "  {'role': 'assistant',\n",
       "   'content': 'It was approaching 2am when Lexi made the discovery that would fracture the world. She skulled the rest of her black coffee and sat the paper cup down on the smooth, white table. She was at the university working on her PhD thesis. The research involved creating controlled, miniature black holes in a Vacuity Machine and then testing its potential for hyper-space travel.'}]}"
      ]
     },
     "execution_count": 101,
     "metadata": {},
     "output_type": "execute_result"
    }
   ],
   "source": [
    "json_obj = {\n",
    "  \"messages\": [\n",
    "    {\"role\": \"system\", \"content\": \"You are the greatest sci-fi story author in the universe.\"},\n",
    "    {\"role\": \"user\", \"content\": extracted_prompt},\n",
    "    {\"role\": \"assistant\", \"content\": input_text}\n",
    "  ]\n",
    "}\n",
    "json_obj"
   ]
  },
  {
   "cell_type": "code",
   "execution_count": 33,
   "id": "43bc1afb-6df5-4486-a9f4-da1b69b5bd61",
   "metadata": {},
   "outputs": [],
   "source": [
    "def create_prompt(input_text):\n",
    "    template = f\"\"\"You are the greatest sci-fi story teller in the universe. Take an input: {input_text}\n",
    "\n",
    "Provide a prompt for this input. Of what exactly is happening in the story.\"\"\"\n",
    "    return template\n"
   ]
  }
 ],
 "metadata": {
  "kernelspec": {
   "display_name": "llm_venv",
   "language": "python",
   "name": "llm_venv"
  },
  "language_info": {
   "codemirror_mode": {
    "name": "ipython",
    "version": 3
   },
   "file_extension": ".py",
   "mimetype": "text/x-python",
   "name": "python",
   "nbconvert_exporter": "python",
   "pygments_lexer": "ipython3",
   "version": "3.11.5"
  }
 },
 "nbformat": 4,
 "nbformat_minor": 5
}
